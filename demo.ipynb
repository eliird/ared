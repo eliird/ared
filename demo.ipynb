{
 "cells": [
  {
   "cell_type": "markdown",
   "metadata": {},
   "source": [
    "## Imports"
   ]
  },
  {
   "cell_type": "code",
   "execution_count": 1,
   "metadata": {},
   "outputs": [],
   "source": [
    "from ared import EmotionDetector\n",
    "from ared import ASR\n",
    "from ared.utils import (\n",
    "    id2emotion, emotion2id, load_first_50_images, load_audio_from_file\n",
    ")\n",
    "import random\n",
    "\n",
    "random.seed(20)"
   ]
  },
  {
   "cell_type": "markdown",
   "metadata": {},
   "source": [
    "## Loading the Model\n",
    "- Path of the weights of audio, vision and text preprocessor models"
   ]
  },
  {
   "cell_type": "markdown",
   "metadata": {},
   "source": [
    "**Audio Transcription**\n",
    "\n",
    "- If you want an ASR model you can use any model of your choice below is the implementation using **QWen** model to transcribe the video\n",
    "- QWen model is quite big and requires atleast 9GB of space"
   ]
  },
  {
   "cell_type": "code",
   "execution_count": 2,
   "metadata": {},
   "outputs": [
    {
     "name": "stderr",
     "output_type": "stream",
     "text": [
      "Some weights of GPT2DoubleHeadsModel were not initialized from the model checkpoint at ./weights/text/ and are newly initialized: ['multiple_choice_head.summary.bias', 'multiple_choice_head.summary.weight']\n",
      "You should probably TRAIN this model on a down-stream task to be able to use it for predictions and inference.\n"
     ]
    },
    {
     "name": "stdout",
     "output_type": "stream",
     "text": [
      "audio_start_id: 155163, audio_end_id: 155164, audio_pad_id: 151851.\n"
     ]
    },
    {
     "name": "stderr",
     "output_type": "stream",
     "text": [
      "The model is automatically converting to bf16 for faster inference. If you want to disable the automatic precision, please manually add bf16/fp16/fp32=True to \"AutoModelForCausalLM.from_pretrained\".\n",
      "Try importing flash-attention for faster inference...\n",
      "Warning: import flash_attn rotary fail, please install FlashAttention rotary to get higher efficiency https://github.com/Dao-AILab/flash-attention/tree/main/csrc/rotary\n",
      "Warning: import flash_attn rms_norm fail, please install FlashAttention layer_norm to get higher efficiency https://github.com/Dao-AILab/flash-attention/tree/main/csrc/layer_norm\n",
      "Warning: import flash_attn fail, please install FlashAttention to get higher efficiency https://github.com/Dao-AILab/flash-attention\n"
     ]
    },
    {
     "data": {
      "application/vnd.jupyter.widget-view+json": {
       "model_id": "8d76de2172f24c67bdfd54791cc4b63d",
       "version_major": 2,
       "version_minor": 0
      },
      "text/plain": [
       "Loading checkpoint shards:   0%|          | 0/9 [00:00<?, ?it/s]"
      ]
     },
     "metadata": {},
     "output_type": "display_data"
    }
   ],
   "source": [
    "# paths containing the weights of the model\n",
    "vis_weights = './weights/vision/MELDSceneNet_best.pt'\n",
    "audio_weights='./weights/audio/model_best_sentiment.pth'\n",
    "text_wreights = './weights/text/'\n",
    "\n",
    "device = 'cuda'\n",
    "\n",
    "# load the emotion detection model\n",
    "detector = EmotionDetector(vis_model_weights=vis_weights, \n",
    "                           text_model_weights=text_wreights, \n",
    "                           audio_model_weights=audio_weights,\n",
    "                           device=device)\n",
    "\n",
    "# load the ASR model\n",
    "asr_model = ASR(device)"
   ]
  },
  {
   "cell_type": "markdown",
   "metadata": {},
   "source": [
    "# Predicting the Emotion"
   ]
  },
  {
   "cell_type": "markdown",
   "metadata": {},
   "source": [
    "**From a video file directly**\n",
    " - Given the path of the video model computes the emotion"
   ]
  },
  {
   "cell_type": "code",
   "execution_count": 3,
   "metadata": {},
   "outputs": [
    {
     "data": {
      "text/plain": [
       "'anger'"
      ]
     },
     "execution_count": 3,
     "metadata": {},
     "output_type": "execute_result"
    }
   ],
   "source": [
    "video_path = './dia0_utt0.mp4'\n",
    "\n",
    "utterance = asr_model.convert_speech_to_text(video_path)\n",
    "emotion, probab = detector.detect_emotion(video=video_path, \n",
    "                                          audio=video_path, \n",
    "                                          text=utterance)\n",
    "emotion"
   ]
  },
  {
   "cell_type": "markdown",
   "metadata": {},
   "source": [
    "**From an array of Images, still need audio to be in the file**\n",
    "- Model takes sequence of 50 images as input and the audio signal of last 2 seconds and the utterance\n",
    "- **TODO**\n",
    "Ideally would like to implement in a way that the audio can be processed from a numpy array directly"
   ]
  },
  {
   "cell_type": "code",
   "execution_count": 4,
   "metadata": {},
   "outputs": [
    {
     "data": {
      "text/plain": [
       "'anger'"
      ]
     },
     "execution_count": 4,
     "metadata": {},
     "output_type": "execute_result"
    }
   ],
   "source": [
    "images = load_first_50_images(video_path)\n",
    "audio = load_audio_from_file(video_path)\n",
    "\n",
    "utterance = asr_model.convert_speech_to_text(video_path)\n",
    "\n",
    "emotion, probab = detector.detect_emotion(video=images, audio=audio, text=utterance)\n",
    "emotion"
   ]
  },
  {
   "cell_type": "markdown",
   "metadata": {},
   "source": [
    "## Using the Webcam For REALTIME\n",
    "\n",
    "**TODO**"
   ]
  }
 ],
 "metadata": {
  "kernelspec": {
   "display_name": "tte",
   "language": "python",
   "name": "python3"
  },
  "language_info": {
   "codemirror_mode": {
    "name": "ipython",
    "version": 3
   },
   "file_extension": ".py",
   "mimetype": "text/x-python",
   "name": "python",
   "nbconvert_exporter": "python",
   "pygments_lexer": "ipython3",
   "version": "3.9.19"
  }
 },
 "nbformat": 4,
 "nbformat_minor": 2
}
